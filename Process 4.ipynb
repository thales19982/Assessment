{
 "cells": [
  {
   "cell_type": "code",
   "execution_count": 490,
   "id": "a5b02898-beac-4417-99da-6c26170209f7",
   "metadata": {},
   "outputs": [],
   "source": [
    "import pandas as pd\n",
    "import matplotlib.pyplot as plt\n",
    "import numpy as np\n",
    "import requests\n",
    "from bs4 import BeautifulSoup as bs"
   ]
  },
  {
   "cell_type": "code",
   "execution_count": 491,
   "id": "f0e7d840-2697-4b92-aa2f-245738b5cfc6",
   "metadata": {},
   "outputs": [],
   "source": [
    "# Functions that are used throughout the project \n",
    "def call_data(name,columns_dropped):\n",
    "\n",
    "#Reading the documento CSV\n",
    "    db = pd.read_csv(name)\n",
    "\n",
    "# Drop the columns which are gonna be unecessary to the analysis\n",
    "    db.drop(db.columns[columns_dropped],axis=1,inplace=True)\n",
    "    return db"
   ]
  },
  {
   "cell_type": "code",
   "execution_count": 492,
   "id": "f97f451d-c4cd-423a-a75c-8f1b6fb60376",
   "metadata": {},
   "outputs": [],
   "source": [
    "#Function to drop duplicates and NaN\n",
    "def drop_clean_table(name_table,columns_to_drop_duplicate,columns_to_drop_NaN):\n",
    "    name_table.drop_duplicates(subset = columns_to_drop_duplicate, inplace=True)\n",
    "\n",
    "#Drop NaN values which is not interesting for me \n",
    "    name_table.dropna(subset = columns_to_drop_NaN,inplace=True)\n",
    "    return name_table"
   ]
  },
  {
   "cell_type": "code",
   "execution_count": 493,
   "id": "d46a77e5-5ef0-4153-9418-dffe629a9075",
   "metadata": {},
   "outputs": [],
   "source": [
    "# Using the function to set the table and get it ready to work with \n",
    "order_date = call_data(\"olist_orders_dataset.csv\",[1,3,4,7])"
   ]
  },
  {
   "cell_type": "code",
   "execution_count": 494,
   "id": "e289c0de-c19b-4256-abad-2f177d22a083",
   "metadata": {},
   "outputs": [],
   "source": [
    "# Subsetting for deliveries completed \n",
    "order_date = order_date[order_date[\"order_status\"]==\"delivered\"]\n",
    "\n",
    "# Disconsider rows which there is no products departure and arrival dates (Difference: from 96478 to 96469)\n",
    "order_date.dropna(subset=['order_delivered_carrier_date', 'order_delivered_customer_date'],inplace=True)"
   ]
  },
  {
   "cell_type": "code",
   "execution_count": 495,
   "id": "ca70000b-2b08-4df7-b56b-7a37e5dfabc3",
   "metadata": {},
   "outputs": [],
   "source": [
    "#Converting the dates columns into Series(datetimes type) and subtracting them \n",
    "date_departure = pd.to_datetime(order_date[\"order_delivered_carrier_date\"])\n",
    "date_arrival = pd.to_datetime(order_date[\"order_delivered_customer_date\"])\n",
    "time_delay = (date_arrival - date_departure) / np.timedelta64(1,\"D\")"
   ]
  },
  {
   "cell_type": "code",
   "execution_count": 496,
   "id": "4b70aca9-b11c-4e2b-ac47-636319da481e",
   "metadata": {},
   "outputs": [],
   "source": [
    "# Merge the Series into DataFrame back\n",
    "date_merged = order_date.merge(time_delay.rename(\"Delivery Delay\"),left_index=True,right_index=True)"
   ]
  },
  {
   "cell_type": "code",
   "execution_count": 497,
   "id": "62729898-f535-458d-bc24-eaa3c9f75f2d",
   "metadata": {},
   "outputs": [],
   "source": [
    "#Set index to merge with the other DF(seller_order) which there is the same data columns \n",
    "date_merged.set_index(\"order_id\",inplace=True)"
   ]
  },
  {
   "cell_type": "code",
   "execution_count": 498,
   "id": "5bab3ddc-1515-4dc0-8bfd-4e07846ee943",
   "metadata": {},
   "outputs": [],
   "source": [
    "# Using the function to set the table and get it ready to work with \n",
    "seller_state = call_data(\"olist_sellers_dataset.csv\",[1])"
   ]
  },
  {
   "cell_type": "code",
   "execution_count": 499,
   "id": "c98653a5-92ca-4a8d-b0f8-944a732954e0",
   "metadata": {},
   "outputs": [],
   "source": [
    "# Verifying if there is no duplicates or NaN by the function\n",
    "seller_state =drop_clean_table(seller_state,[\"seller_id\"],[\"seller_id\",\"seller_state\"])"
   ]
  },
  {
   "cell_type": "code",
   "execution_count": 500,
   "id": "003bc3fd-752a-4f67-a3c7-1c37de173245",
   "metadata": {},
   "outputs": [],
   "source": [
    "#Set index to merge with the other DF(seller_order) which there is the same data columns \n",
    "seller_state.set_index(\"seller_id\",inplace=True)"
   ]
  },
  {
   "cell_type": "code",
   "execution_count": 501,
   "id": "976bac0c-5378-490a-a3fb-7a3d729d5c76",
   "metadata": {},
   "outputs": [],
   "source": [
    "# Using the function to call the DF\n",
    "seller_order = call_data(\"olist_order_items_dataset.csv\",[1,2,4,5,6])"
   ]
  },
  {
   "cell_type": "code",
   "execution_count": 502,
   "id": "63787d3c-6688-4355-8f04-9231e7c76062",
   "metadata": {},
   "outputs": [],
   "source": [
    "# Using the function to clean the DF\n",
    "seller_order =drop_clean_table(seller_order,[\"order_id\",\"seller_id\"],[\"order_id\",\"seller_id\"])"
   ]
  },
  {
   "cell_type": "code",
   "execution_count": 503,
   "id": "237cc1ca-433a-4dea-9048-0b93ffa1150e",
   "metadata": {},
   "outputs": [],
   "source": [
    "# Set index to merge with the other DF(seller_state) which there is the same data columns \n",
    "seller_order.set_index(\"seller_id\",inplace=True)"
   ]
  },
  {
   "cell_type": "code",
   "execution_count": 504,
   "id": "e2b444b3-8de0-46b8-955f-ec0c48f3fc0c",
   "metadata": {},
   "outputs": [],
   "source": [
    "# Merge the 2 DFs to get the relation between the order and where its departuring \n",
    "seller_order = seller_order.merge(seller_state,left_index=True,right_index=True)"
   ]
  },
  {
   "cell_type": "code",
   "execution_count": 505,
   "id": "bac2252b-2c7f-426a-9591-3f8381f83fd8",
   "metadata": {},
   "outputs": [],
   "source": [
    "#Set index to merge with the other DF(date_merged) which there is the same data columns \n",
    "seller_order.set_index(\"order_id\",inplace=True)"
   ]
  },
  {
   "cell_type": "code",
   "execution_count": 506,
   "id": "05594459-08f5-482d-9937-3018cc5a3569",
   "metadata": {},
   "outputs": [],
   "source": [
    "# Merge 2 DFs with the same idea as the last one\n",
    "place_time = date_merged.merge(seller_order,left_index=True,right_index=True)"
   ]
  },
  {
   "cell_type": "code",
   "execution_count": 507,
   "id": "df62eff6-8ff0-4584-a7b5-d513a4b77d26",
   "metadata": {},
   "outputs": [],
   "source": [
    "#Counting the number of orders for each state\n",
    "delay_orders = place_time.groupby([\"seller_state\"])[\"Delivery Delay\"].agg(np.mean)\n",
    "num_orders_place = place_time.groupby([\"seller_state\"]).count()"
   ]
  },
  {
   "cell_type": "raw",
   "id": "0b2c835b-ef48-4731-a76b-e9a849d70ff9",
   "metadata": {},
   "source": [
    "If i needed just the delivery orders i would create a DF based on the Series using dictionaries as below in order to work \n",
    "easily with the DF. However, i want to get more info so i merge the Series into a DF using concat and generate a DF needed automatically \n",
    "\n",
    "Create a DF based on the Series already created \n",
    "---(code)\n",
    "delay_orders_df = pd.DataFrame({'States':delay_orders.index, 'Delivery Delay':delay_orders.values})\n",
    "---"
   ]
  },
  {
   "cell_type": "code",
   "execution_count": 508,
   "id": "eb2cc085-c519-416b-9782-f72bfa78953e",
   "metadata": {},
   "outputs": [],
   "source": [
    "# Prepare the DF to merge to another \n",
    "num_orders_place.drop(num_orders_place.columns[[1,2,3,4]],axis=1,inplace=True)\n",
    "\n",
    "# Merge the Series into the DF to get all the info that i need in one table \n",
    "delay_orders_delivery = pd.concat([num_orders_place,delay_orders],axis=1)"
   ]
  },
  {
   "cell_type": "code",
   "execution_count": 509,
   "id": "06d850ee-a393-4e2b-b5cd-79e348ecb20d",
   "metadata": {},
   "outputs": [],
   "source": [
    "# Name the columns\n",
    "delay_orders_delivery.columns = [\"Delivery Orders\",\"Delivery Delay(Days)\"]"
   ]
  },
  {
   "cell_type": "code",
   "execution_count": 510,
   "id": "aaa5146a-12f5-42eb-9564-5d36830b5780",
   "metadata": {},
   "outputs": [],
   "source": [
    "# Sort the values in order to set the table ready to show\n",
    "delay_orders_delivery = delay_orders_delivery.sort_values(by = [\"Delivery Delay(Days)\",\"Delivery Orders\"], ascending= [True,False])"
   ]
  },
  {
   "cell_type": "code",
   "execution_count": 511,
   "id": "0051c52d-25a0-4dab-8358-1d2e756d9ddf",
   "metadata": {},
   "outputs": [],
   "source": [
    "# Access the information fo the website =(all the objects)\n",
    "gdp = requests.get('https://www.ibge.gov.br/explica/pib.php')\n",
    "\n",
    "# Using the beautifulsoup method to get just the information readable \n",
    "gdp_brazil = bs(gdp.content, 'lxml')\n",
    "\n",
    "# Finding the table needed on this html\n",
    "table = gdp_brazil.find(\"table\")\n",
    "\n",
    "# Transforming the html information into a pandas table to get ready to work with it \n",
    "gdp_df = pd.read_html(str(table))[0]"
   ]
  },
  {
   "cell_type": "code",
   "execution_count": 512,
   "id": "5bfb4843-3a02-4a1f-983a-e1804add0ea9",
   "metadata": {},
   "outputs": [],
   "source": [
    "# Create empty lists and variables to apply the interaction method \n",
    "list_gdp=[]\n",
    "list_states=[]\n",
    "gdp_v=0\n",
    "\n",
    "# Apply the interaction method \"while\" in order to create lists and then, a DataFrame\n",
    "while gdp_v<=len(gdp_df.index)-1:\n",
    "    number = gdp_df.iloc[gdp_v][1].replace(\".\",\"\")\n",
    "    list_gdp.append(int(number))\n",
    "    list_states.append(str(gdp_df.iloc[gdp_v][0]))\n",
    "    gdp_v=gdp_v+1"
   ]
  },
  {
   "cell_type": "code",
   "execution_count": 513,
   "id": "ada065f0-3896-4e1d-84e9-2a83b26f9798",
   "metadata": {},
   "outputs": [],
   "source": [
    "# Creating a DataFrame based on the lists created before\n",
    "gdp_new_df = pd.DataFrame(list(zip(list_states, list_gdp)),columns =['States', 'GDP in 2019 (1.000.000 R$)'])"
   ]
  },
  {
   "cell_type": "code",
   "execution_count": 514,
   "id": "b0aa3218-965f-4a92-be0f-693ebeae2587",
   "metadata": {},
   "outputs": [],
   "source": [
    "# Sort the values \n",
    "gdp_new_df.sort_values(by = \"GDP in 2019 (1.000.000 R$)\", ascending = False,inplace=True)\n",
    "\n",
    "# Set the index to get ready to merge\n",
    "gdp_new_df.set_index(\"States\",inplace=True)"
   ]
  },
  {
   "cell_type": "code",
   "execution_count": 515,
   "id": "e83e8064-923f-42b9-a4bf-7306adbfe8e5",
   "metadata": {},
   "outputs": [],
   "source": [
    "# Access the information fo the website =(all the objects)\n",
    "states = requests.get('https://mundoeducacao.uol.com.br/geografia/estados-brasil.htm')\n",
    "\n",
    "# Using the beautifulsoup method to get just the information readable \n",
    "states_brazil = bs(states.content, 'lxml')\n",
    "\n",
    "# Finding the table needed on this html\n",
    "table = states_brazil.find(\"table\")\n",
    "\n",
    "# Transforming the html information into a pandas table to get ready to work with it \n",
    "states_df = pd.read_html(str(table))[0]"
   ]
  },
  {
   "cell_type": "code",
   "execution_count": 516,
   "id": "09097aed-2f60-42af-976c-e3ad7831c3f7",
   "metadata": {},
   "outputs": [],
   "source": [
    "# Fix the table indexes \n",
    "states_df=states_df[1:]\n",
    "\n",
    "# Name the columns\n",
    "states_df.columns = [\"States\",\"Abbreviations\"]"
   ]
  },
  {
   "cell_type": "code",
   "execution_count": 517,
   "id": "fa23ed25-023a-471d-86d5-adaefc9c4f4b",
   "metadata": {},
   "outputs": [],
   "source": [
    "#Set index to merge with the other DF(date_merged) which there is the same data columns \n",
    "states_df.set_index(\"States\",inplace=True)"
   ]
  },
  {
   "cell_type": "code",
   "execution_count": 518,
   "id": "bd10e43a-c907-4741-9523-ab523b8019f5",
   "metadata": {},
   "outputs": [
    {
     "name": "stdout",
     "output_type": "stream",
     "text": [
      "<class 'pandas.core.frame.DataFrame'>\n",
      "Index: 27 entries, Acre to Distrito Federal\n",
      "Data columns (total 2 columns):\n",
      " #   Column                      Non-Null Count  Dtype \n",
      "---  ------                      --------------  ----- \n",
      " 0   Abbreviations               27 non-null     object\n",
      " 1   GDP in 2019 (1.000.000 R$)  27 non-null     int64 \n",
      "dtypes: int64(1), object(1)\n",
      "memory usage: 1.7+ KB\n"
     ]
    }
   ],
   "source": [
    "# Merge the two DFs to get the GDP per state and the abbreviation included \n",
    "states_gdp_abb = states_df.merge(gdp_new_df,left_index=True,right_index=True,how=\"left\")\n",
    "states_gdp_abb.info()"
   ]
  },
  {
   "cell_type": "code",
   "execution_count": 519,
   "id": "aaa3c3ef-c9b1-4e19-b859-b5d3fb3f6127",
   "metadata": {},
   "outputs": [],
   "source": [
    "# Reset index to get prepared for the next merge\n",
    "states_gdp_abb.reset_index(inplace=True)\n",
    "\n",
    "# Set the index for the next merge(Combine both indexes)\n",
    "states_gdp_abb.set_index(\"Abbreviations\",inplace=True)"
   ]
  },
  {
   "cell_type": "code",
   "execution_count": 520,
   "id": "3a661ed0-18b9-4832-a832-6d974e1b38c1",
   "metadata": {},
   "outputs": [],
   "source": [
    "# Merge the delivery orders info with the states GDP info \n",
    "states_gdp_abb_deli = delay_orders_delivery.merge(states_gdp_abb,left_index=True,right_index=True,how=\"left\")"
   ]
  },
  {
   "cell_type": "code",
   "execution_count": 521,
   "id": "7a34a679-0b05-4d19-be4e-13a5b50a13cd",
   "metadata": {},
   "outputs": [],
   "source": [
    "# Reset the index and tidy the columns up\n",
    "states_gdp_abb_deli.reset_index(inplace=True)\n",
    "states_gdp_abb_deli = states_gdp_abb_deli[[\"States\",\"seller_state\",\"Delivery Orders\",\"Delivery Delay(Days)\",\"GDP in 2019 (1.000.000 R$)\"]]"
   ]
  },
  {
   "cell_type": "code",
   "execution_count": 522,
   "id": "c8595445-a3d6-4e83-84a7-91330bbbca0e",
   "metadata": {},
   "outputs": [],
   "source": [
    "# Name the columns\n",
    "states_gdp_abb_deli.columns = [\"States\",\"Abbreviations\",\"Delivery Orders\",\"Delivery Delay(Days)\",\"GDP in 2019 (1.000.000 R$)\"]"
   ]
  },
  {
   "cell_type": "code",
   "execution_count": 523,
   "id": "168b66e7-f899-434e-b2ff-487abf8f2bf6",
   "metadata": {},
   "outputs": [
    {
     "name": "stdout",
     "output_type": "stream",
     "text": [
      "                    Abbreviations  Delivery Orders  Delivery Delay(Days)  \\\n",
      "States                                                                     \n",
      "Rio Grande do Sul              RS             1964              8.064388   \n",
      "Mato Grosso do Sul             MS               49              8.098366   \n",
      "Rio Grande do Norte            RN               51              8.716393   \n",
      "São Paulo                      SP            69395              9.095651   \n",
      "Rio de Janeiro                 RJ             4229              9.225426   \n",
      "Paraíba                        PB               35              9.371992   \n",
      "Distrito Federal               DF              808              9.519663   \n",
      "Minas Gerais                   MG             7745              9.621394   \n",
      "Paraná                         PR             7555              9.938253   \n",
      "Pará                           PA                8              9.954369   \n",
      "Sergipe                        SE                9             10.292127   \n",
      "Goiás                          GO              451             10.298114   \n",
      "Bahia                          BA              550             10.519742   \n",
      "Espírito Santo                 ES              310             10.534219   \n",
      "Santa Catarina                 SC             3608             10.597436   \n",
      "Pernambuco                     PE              403             10.608309   \n",
      "Mato Grosso                    MT              136             11.434185   \n",
      "Piauí                          PI               11             12.005422   \n",
      "Maranhão                       MA              389             12.894393   \n",
      "Ceará                          CE               87             14.403983   \n",
      "Rondônia                       RO               14             14.962379   \n",
      "Amazonas                       AM                3             44.410799   \n",
      "\n",
      "                     GDP in 2019 (1.000.000 R$)  \n",
      "States                                           \n",
      "Rio Grande do Sul                        482464  \n",
      "Mato Grosso do Sul                       106943  \n",
      "Rio Grande do Norte                       71337  \n",
      "São Paulo                               2348338  \n",
      "Rio de Janeiro                           779928  \n",
      "Paraíba                                   67986  \n",
      "Distrito Federal                         273614  \n",
      "Minas Gerais                             651873  \n",
      "Paraná                                   466377  \n",
      "Pará                                     178377  \n",
      "Sergipe                                   44689  \n",
      "Goiás                                    208672  \n",
      "Bahia                                    293241  \n",
      "Espírito Santo                           137346  \n",
      "Santa Catarina                           323264  \n",
      "Pernambuco                               197853  \n",
      "Mato Grosso                              142122  \n",
      "Piauí                                     52781  \n",
      "Maranhão                                  97340  \n",
      "Ceará                                    163575  \n",
      "Rondônia                                  47091  \n",
      "Amazonas                                 108181  \n"
     ]
    }
   ],
   "source": [
    "# Set the index for plotting\n",
    "states_gdp_abb_deli.set_index(\"States\",inplace=True)\n",
    "print(states_gdp_abb_deli)"
   ]
  },
  {
   "cell_type": "code",
   "execution_count": 524,
   "id": "b9908721-8f93-4177-81cc-9691421993a5",
   "metadata": {},
   "outputs": [
    {
     "data": {
      "image/png": "[encoded data removed]",
      "text/plain": [
       "<Figure size 864x432 with 2 Axes>"
      ]
     },
     "metadata": {
      "needs_background": "light"
     },
     "output_type": "display_data"
    }
   ],
   "source": [
    "# Applying the method to make possible to plot two info at the same chart \n",
    "fig, ax1 = plt.subplots()\n",
    "\n",
    "# PLotting the chart 5(info1) which is the GDP per states\n",
    "ax1.plot(states_gdp_abb_deli.index,states_gdp_abb_deli[\"GDP in 2019 (1.000.000 R$)\"])\n",
    "\n",
    "# Set label\n",
    "ax1.set_ylabel('GDP in 2019 (1.000.000 R$)')\n",
    "\n",
    "# Set legend\n",
    "ax1.legend(['GDP in 2019 (1.000.000 R$)'], loc=\"upper left\")\n",
    "\n",
    "# Make both plots twinx to get the able to plot together\n",
    "ax2=ax1.twinx()\n",
    "\n",
    "# PLotting the chart 5(info 2) which is the delivery parameters\n",
    "ax2.bar(states_gdp_abb_deli.index,states_gdp_abb_deli[\"Delivery Delay(Days)\"],width=0.5, alpha=0.6, color='orange')\n",
    "\n",
    "# get the grid out\n",
    "ax2.grid(False)\n",
    "\n",
    "# Set label\n",
    "ax2.set_ylabel('Delivery Delay(Days)')\n",
    "\n",
    "# Set legend\n",
    "ax2.legend(['Delivery Delay(Days)'], loc=\"upper right\")\n",
    "\n",
    "# Rotate the x label \n",
    "fig.autofmt_xdate(rotation=45)\n",
    "\n",
    "# Set title\n",
    "ax1.set_title(\"Delivery delay X GDP (per state)\")\n",
    "\n",
    "# Change the plot chart size\n",
    "plt.gcf().set_size_inches(12, 6)\n",
    "\n",
    "# Show it\n",
    "plt.show()"
   ]
  }
 ],
 "metadata": {
  "kernelspec": {
   "display_name": "Python 3 (ipykernel)",
   "language": "python",
   "name": "python3"
  },
  "language_info": {
   "codemirror_mode": {
    "name": "ipython",
    "version": 3
   },
   "file_extension": ".py",
   "mimetype": "text/x-python",
   "name": "python",
   "nbconvert_exporter": "python",
   "pygments_lexer": "ipython3",
   "version": "3.9.7"
  }
 },
 "nbformat": 4,
 "nbformat_minor": 5
}
