{
 "cells": [
  {
   "cell_type": "code",
   "execution_count": 629,
   "id": "f2259956-5990-4f6a-887c-fb1420b13b41",
   "metadata": {},
   "outputs": [],
   "source": [
    "import pandas as pd\n",
    "import matplotlib.pyplot as plt\n",
    "import numpy as np"
   ]
  },
  {
   "cell_type": "code",
   "execution_count": 630,
   "id": "79891134-164e-4ce2-8f68-ba148db831bb",
   "metadata": {},
   "outputs": [],
   "source": [
    "# Functions that are used throughout the project \n",
    "def call_data(name,columns_dropped):\n",
    "\n",
    "#Reading the documento CSV\n",
    "    db = pd.read_csv(name)\n",
    "\n",
    "# Drop the columns which are gonna be unecessary to the analysis\n",
    "    db.drop(db.columns[columns_dropped],axis=1,inplace=True)\n",
    "    return db"
   ]
  },
  {
   "cell_type": "code",
   "execution_count": 631,
   "id": "89b9c27c-e49c-43ef-941c-d92b4b1852ab",
   "metadata": {},
   "outputs": [],
   "source": [
    "# Applying the function to get the dataframe\n",
    "prices_clean = call_data(\"olist_order_items_dataset.csv\",[1,3,4])"
   ]
  },
  {
   "cell_type": "code",
   "execution_count": 632,
   "id": "dbf3ad9f-79a4-4db0-b0d5-5712bb3aa54d",
   "metadata": {},
   "outputs": [],
   "source": [
    "# Sum the delivery total price including the freigh_value  \n",
    "prices_clean[\"total_price\"] = prices_clean[[\"price\",\"freight_value\"]].sum(axis=1)"
   ]
  },
  {
   "cell_type": "code",
   "execution_count": 633,
   "id": "5d94928d-ab48-43aa-a008-191ae2a34695",
   "metadata": {},
   "outputs": [],
   "source": [
    "# We use the group method in this case to remove the duplicates since there are some orders with more than one item, thats why \n",
    "# we need to group the database based on the order_id. Therefore, we won't have a number different from 1 in the order_item_id \n",
    "prices_clean_group = prices_clean.groupby([\"order_id\"]).sum()"
   ]
  },
  {
   "cell_type": "code",
   "execution_count": 634,
   "id": "86cd39f0-1637-4bf4-b55e-58393e6a7a41",
   "metadata": {},
   "outputs": [],
   "source": [
    "# Applying the function to get the dataframe\n",
    "customers_clean = call_data(\"olist_customers_dataset.csv\",[1,2])"
   ]
  },
  {
   "cell_type": "code",
   "execution_count": 635,
   "id": "b33ceaf4-ecdd-46af-9c97-8201c3501373",
   "metadata": {},
   "outputs": [],
   "source": [
    "# Applying the function to get the dataframe\n",
    "orders = call_data(\"olist_orders_dataset.csv\",[2,3,4,5,6,7])"
   ]
  },
  {
   "cell_type": "code",
   "execution_count": 636,
   "id": "728c322c-bb19-4be2-b446-6bd906d9ea0c",
   "metadata": {},
   "outputs": [],
   "source": [
    "# Same explanation as the prices table \n",
    "orders_group = orders.groupby([\"order_id\"]).sum()"
   ]
  },
  {
   "cell_type": "code",
   "execution_count": 637,
   "id": "fa41b4d3-75a1-4c53-9e3d-b788ced799a0",
   "metadata": {},
   "outputs": [],
   "source": [
    "# Merge of the prices and orders table in order to link the prices with the customers (creating a primary key grouping method)\n",
    "orders_prices_merged = orders_group.merge(prices_clean_group,left_index=True,right_index=True,how=\"left\")"
   ]
  },
  {
   "cell_type": "code",
   "execution_count": 638,
   "id": "54a86f81-0c9d-4241-9365-41eb01117e55",
   "metadata": {},
   "outputs": [],
   "source": [
    "# Make sure there is no duplicates in the column customer_id in the table merged. And if there is, their prices will be added\n",
    "orders_prices_merged = orders_prices_merged.groupby([\"customer_id\"]).sum()"
   ]
  },
  {
   "cell_type": "code",
   "execution_count": 639,
   "id": "c4591c83-6475-4d90-af9e-422bbb34e38f",
   "metadata": {},
   "outputs": [],
   "source": [
    "# Verifying if there is no duplicates in cusomer_id in table customers_clean\n",
    "customers_clean.drop_duplicates(subset = \"customer_id\", inplace=True)"
   ]
  },
  {
   "cell_type": "code",
   "execution_count": 640,
   "id": "389fedff-e7fa-49cf-978b-554a1dd31b88",
   "metadata": {},
   "outputs": [],
   "source": [
    "# Set the index customer_id in order to merge \n",
    "customers_clean.set_index(\"customer_id\",inplace=True)\n",
    "\n",
    "# Merge (Same way as for orders_prices_merged)\n",
    "orders_prices_customers_merged = orders_prices_merged.merge(customers_clean,left_index=True,right_index=True,how =\"left\")"
   ]
  },
  {
   "cell_type": "markdown",
   "id": "4fb3a5d7-2017-46a9-b53e-d82c51eeb48b",
   "metadata": {},
   "source": [
    "The number of rows are not matching because there are orders on the table olist_orders_dataset which are not linked with any item.\n",
    "They will be desconsidered doing the merge itself "
   ]
  },
  {
   "cell_type": "code",
   "execution_count": 641,
   "id": "440fd5ad-5344-4da4-b4ad-8c0a98b7e3f6",
   "metadata": {},
   "outputs": [
    {
     "name": "stdout",
     "output_type": "stream",
     "text": [
      "<class 'pandas.core.frame.DataFrame'>\n",
      "Index: 99441 entries, 00012a2ce6f8dcda20d059ce98491703 to ffffe8b65bbe3087b653a978c870db99\n",
      "Data columns (total 5 columns):\n",
      " #   Column          Non-Null Count  Dtype  \n",
      "---  ------          --------------  -----  \n",
      " 0   price           99441 non-null  float64\n",
      " 1   freight_value   99441 non-null  float64\n",
      " 2   total_price     99441 non-null  float64\n",
      " 3   customer_city   99441 non-null  object \n",
      " 4   customer_state  99441 non-null  object \n",
      "dtypes: float64(3), object(2)\n",
      "memory usage: 6.6+ MB\n"
     ]
    }
   ],
   "source": [
    "# Check if there is no null and if the type of the data on the columns make sense \n",
    "orders_prices_customers_merged.info()"
   ]
  },
  {
   "cell_type": "code",
   "execution_count": 642,
   "id": "77a51315-ddc0-4660-87df-5edf155193bc",
   "metadata": {},
   "outputs": [],
   "source": [
    "# There is no missing values in the dataframe, but if had it i would solve as shown below\n",
    "orders_prices_customers_merged[\"price\"].fillna(0,inplace=True) # or\n",
    "orders_prices_customers_merged[\"customer_state\"].fillna(\"\",inplace=True) # depends on the column its missing"
   ]
  },
  {
   "cell_type": "code",
   "execution_count": 643,
   "id": "ccea8f2c-5e9f-46c7-960a-cdf5e5f0d4fe",
   "metadata": {},
   "outputs": [],
   "source": [
    "# Sorting total_price values\n",
    "orders_prices_customers_merged.sort_values(by=[\"total_price\"], ascending=False,inplace=True)"
   ]
  },
  {
   "cell_type": "code",
   "execution_count": 644,
   "id": "b86bc525-786d-4554-b572-a171a0f3789f",
   "metadata": {},
   "outputs": [],
   "source": [
    "#Preparing the data to be shown based on the aim of the project as a table\n",
    "value_state_table = orders_prices_customers_merged.groupby([\"customer_state\",\"customer_city\"])[\"total_price\"].agg([np.mean,np.sum])\n",
    "\n",
    "#Sorting the values to show in a small table\n",
    "value_state_table.sort_values(by=[\"sum\"], ascending=False,inplace=True)"
   ]
  },
  {
   "cell_type": "code",
   "execution_count": 645,
   "id": "22261779-3a08-4e9f-848f-005332d399a9",
   "metadata": {},
   "outputs": [],
   "source": [
    "# Subsetting the dataframe in order to get just the mos relevant categories and make the table clean \n",
    "value_state_table = value_state_table[value_state_table[\"sum\"]>120000]"
   ]
  },
  {
   "cell_type": "code",
   "execution_count": 646,
   "id": "2a9856a0-7894-4130-a3a7-c68fc0ae4b09",
   "metadata": {},
   "outputs": [],
   "source": [
    "#Preparing the data to be shown based on the aim of the project as a chart\n",
    "value_state = orders_prices_customers_merged.groupby([\"customer_city\"])[\"total_price\"].agg([np.mean,np.sum])\n",
    "\n",
    "#Sorting the values to show in the chart just the biggest ones\n",
    "value_state.sort_values(by=[\"sum\"], ascending=False,inplace=True)"
   ]
  },
  {
   "cell_type": "code",
   "execution_count": 647,
   "id": "137a1d03-b26a-43f0-b281-447d97697a0b",
   "metadata": {},
   "outputs": [
    {
     "name": "stdout",
     "output_type": "stream",
     "text": [
      "                                     mean         sum\n",
      "customer_state customer_city                         \n",
      "SP             sao paulo       139.654255  2170227.12\n",
      "RJ             rio de janeiro  167.717817  1154234.02\n",
      "MG             belo horizonte  150.282506   416733.39\n",
      "DF             brasilia        165.323857   352305.14\n",
      "PR             curitiba        160.907212   244739.87\n",
      "RS             porto alegre    162.483024   224064.09\n",
      "BA             salvador        174.114378   216772.40\n",
      "SP             campinas        147.189543   212541.70\n",
      "               guarulhos       137.574281   163575.82\n",
      "RJ             niteroi         162.449211   137919.38\n",
      "GO             goiania         179.278223   124060.53\n"
     ]
    }
   ],
   "source": [
    "# Subsetting the dataframe in order to get just the mos relevant categories and make the chart clean \n",
    "value_state_s = value_state[value_state[\"sum\"]>120000]\n",
    "\n",
    "print(value_state_table)"
   ]
  },
  {
   "cell_type": "code",
   "execution_count": 648,
   "id": "a02f5498-37f6-451d-b6f2-1c852a53b096",
   "metadata": {},
   "outputs": [
    {
     "data": {
      "image/png": "[encoded data removed]",
      "text/plain": [
       "<Figure size 576x288 with 1 Axes>"
      ]
     },
     "metadata": {
      "needs_background": "light"
     },
     "output_type": "display_data"
    }
   ],
   "source": [
    "# Plotting the chart 1 showing the value bought overthe cities\n",
    "# I've rotated the x label and the color to get easier to understand it \n",
    "plt.bar(value_state_s.index,value_state_s[\"sum\"],color=['red', 'green', 'blue'])\n",
    "plt.xticks(rotation=45)\n",
    "plt.ylabel(\"Sum of value bought(1.000.000 R$)\")\n",
    "plt.xlabel(\"Cities\")\n",
    "plt.title(\"Value bought in R$ per city\")\n",
    "plt.gcf().set_size_inches(8, 4)\n",
    "plt.show()"
   ]
  },
  {
   "cell_type": "code",
   "execution_count": 649,
   "id": "bbb0878d-434e-4254-ab96-ed4c78b81e91",
   "metadata": {},
   "outputs": [
    {
     "data": {
      "image/png": "[encoded data removed]",
      "text/plain": [
       "<Figure size 576x288 with 1 Axes>"
      ]
     },
     "metadata": {
      "needs_background": "light"
     },
     "output_type": "display_data"
    }
   ],
   "source": [
    "# Plotting the chart 2 showing the mean prices of the products over the cities\n",
    "# Same modifications for this chart \n",
    "plt.bar(value_state_s.index,value_state_s[\"mean\"],color=['yellow', 'red', 'black'])\n",
    "plt.xticks(rotation=45)\n",
    "plt.ylabel(\"Mean price(R$)\")\n",
    "plt.xlabel(\"Cities\")\n",
    "plt.title(\"Mean price of the products in R$ per city\")\n",
    "plt.gcf().set_size_inches(8, 4)\n",
    "plt.show()"
   ]
  },
  {
   "cell_type": "markdown",
   "id": "9fa918da-2b72-4d97-a613-a399d9bb9097",
   "metadata": {
    "tags": []
   },
   "source": [
    "# Now we're going to start a new research and code to get other results from other resources "
   ]
  },
  {
   "cell_type": "code",
   "execution_count": 650,
   "id": "c5b275ad-4bc5-462e-9140-e0df857072b2",
   "metadata": {},
   "outputs": [],
   "source": [
    "# Applying the function to get the dataframe\n",
    "products_names = call_data(\"product_category_name_translation.csv\",[])\n",
    "\n",
    "#Set index to merge with the other DF which there is the same data columns \n",
    "products_names.set_index(\"product_category_name\",inplace=True)"
   ]
  },
  {
   "cell_type": "code",
   "execution_count": 651,
   "id": "493e8b87-036c-43c5-819d-404af7518cb6",
   "metadata": {},
   "outputs": [],
   "source": [
    "# Applying the function to get the dataframe\n",
    "products_ids = call_data(\"olist_products_dataset.csv\",[2,3,4,5,6,7,8])\n",
    "\n",
    "#Set index to merge with the other DF which there is the same data columns \n",
    "products_ids.set_index(\"product_category_name\",inplace=True)"
   ]
  },
  {
   "cell_type": "code",
   "execution_count": 652,
   "id": "81376ab4-69d3-41ac-99b3-30b22e587e0b",
   "metadata": {},
   "outputs": [],
   "source": [
    "# Merge the two tables to get the relation between the product id and his name in english \n",
    "products_ids_merged = products_ids.merge(products_names,left_index=True,right_index=True,how =\"left\")"
   ]
  },
  {
   "cell_type": "code",
   "execution_count": 653,
   "id": "839c27af-8a48-4a16-8fca-8a3e96171e8c",
   "metadata": {},
   "outputs": [],
   "source": [
    "# Verifying if there is no duplicates in product_id in table customers_clean\n",
    "products_ids_merged.drop_duplicates(subset = \"product_id\", inplace=True)"
   ]
  },
  {
   "cell_type": "code",
   "execution_count": 654,
   "id": "65f7c325-2d35-4291-b0e9-4ed705e09620",
   "metadata": {},
   "outputs": [],
   "source": [
    "# Count how many products has no name label \n",
    "Null_count = (products_ids_merged[\"product_category_name_english\"].isnull().sum())\n",
    "\n",
    "#Drop NaN values which is not interesting for me \n",
    "products_ids_merged.dropna(inplace=True)"
   ]
  },
  {
   "cell_type": "raw",
   "id": "fdf0dc01-b33a-4f20-9691-15842085edc2",
   "metadata": {},
   "source": [
    "Its not necessary to replace the missing values in this case, but if was, i would apply the method below\n",
    "(CODE IF WAS NECESSARY TO REPLACE THE MISSING VALUES)\n",
    " ---\n",
    "products_ids_merged.fillna(0,inplace=True)\n",
    " ---"
   ]
  },
  {
   "cell_type": "code",
   "execution_count": 655,
   "id": "a8e589ce-7f2b-47b8-9bcd-746e634bcfaa",
   "metadata": {},
   "outputs": [],
   "source": [
    "#Change the index to merge with another table through the same column \n",
    "products_ids_merged.set_index(\"product_id\",inplace=True)"
   ]
  },
  {
   "cell_type": "code",
   "execution_count": 656,
   "id": "f5215102-0a41-4ede-bf42-a558c80eff6e",
   "metadata": {},
   "outputs": [],
   "source": [
    "# Applying the function to get the dataframe\n",
    "prices = call_data(\"olist_order_items_dataset.csv\",[3,4])"
   ]
  },
  {
   "cell_type": "code",
   "execution_count": 657,
   "id": "1f9a4d4f-6128-4090-8578-c9917d7d2a69",
   "metadata": {},
   "outputs": [],
   "source": [
    "# Sum the delivery total price including the freigh_value  \n",
    "prices[\"total_price\"] = prices[[\"price\",\"freight_value\"]].sum(axis=1)\n",
    "\n",
    "#Change the index to merge with another table through the same column \n",
    "prices.set_index(\"product_id\",inplace=True)"
   ]
  },
  {
   "cell_type": "code",
   "execution_count": 658,
   "id": "be5dd66c-ce4a-461a-9c16-9b9e869a96a3",
   "metadata": {},
   "outputs": [],
   "source": [
    "# Merge the two tables in order to get the relation between the classification in english and the price of the order\n",
    "products_prices_merged = prices.merge(products_ids_merged,left_index=True,right_index=True,how =\"left\")"
   ]
  },
  {
   "cell_type": "code",
   "execution_count": 659,
   "id": "a6e1345e-9de8-4fc4-b389-2b7ab26ec549",
   "metadata": {},
   "outputs": [],
   "source": [
    "# Set the index which is going to be the x axis of the chart in the future \n",
    "products_prices_merged.set_index(\"product_category_name_english\",inplace=True)"
   ]
  },
  {
   "cell_type": "code",
   "execution_count": 660,
   "id": "81afd2f0-e0ab-4bb1-bc25-5e90cfd3d695",
   "metadata": {},
   "outputs": [],
   "source": [
    "#Applying the Numpy functions to get the sum and the mean of the price related to each classification \n",
    "product_price_group = products_prices_merged.groupby(\"product_category_name_english\")[\"total_price\"].agg([np.mean,np.sum])"
   ]
  },
  {
   "cell_type": "code",
   "execution_count": 661,
   "id": "c082a699-33dd-4921-9d43-c6ff549ead20",
   "metadata": {},
   "outputs": [
    {
     "name": "stdout",
     "output_type": "stream",
     "text": [
      "                                              mean        sum\n",
      "product_category_name_english                                \n",
      "computers                              1146.795222  232799.43\n",
      "small_appliances_home_oven_and_coffee   660.441711   50193.57\n",
      "home_appliances_2                       520.663529  123917.92\n",
      "agro_industry_and_commerce              369.689009   78374.07\n",
      "musical_instruments                     309.025544  210137.37\n",
      "...                                            ...        ...\n",
      "food_drink                               70.818237   19687.47\n",
      "cds_dvds_musicals                        68.213571     954.99\n",
      "diapers_and_hygiene                      54.904359    2141.27\n",
      "flowers                                  48.451818    1598.91\n",
      "home_comfort_2                           39.019333    1170.58\n",
      "\n",
      "[71 rows x 2 columns]\n"
     ]
    }
   ],
   "source": [
    "#Sort the values first beased on the mean and then based on the sum \n",
    "product_price_group_m_s = product_price_group.sort_values(by=[\"mean\",\"sum\"], ascending = [False,False])\n",
    "\n",
    "print(product_price_group_m_s)"
   ]
  },
  {
   "cell_type": "code",
   "execution_count": 662,
   "id": "2dd72921-70dd-4002-8069-e47bba12d373",
   "metadata": {},
   "outputs": [],
   "source": [
    "# Applying another kind of sort in order to generate the chart based just on the mean \n",
    "product_price_group_s = product_price_group.sort_values(by=[\"mean\"], ascending = False)"
   ]
  },
  {
   "cell_type": "code",
   "execution_count": 663,
   "id": "d6b21749-3d7e-44b1-ab31-9ae35cd38859",
   "metadata": {},
   "outputs": [],
   "source": [
    "# Subsetting the dataframe in order to get just the mos relevant categories and make the chart clean \n",
    "product_price_group_s_subset = product_price_group_s[product_price_group_s[\"mean\"]>210]"
   ]
  },
  {
   "cell_type": "code",
   "execution_count": 664,
   "id": "2cbed8d2-34d9-4d63-8a6e-3f6588728a87",
   "metadata": {},
   "outputs": [
    {
     "name": "stdout",
     "output_type": "stream",
     "text": [
      "                                         Mean (R$)    Sum (R$)\n",
      "Category                                                      \n",
      "computers                              1146.795222   232799.43\n",
      "small_appliances_home_oven_and_coffee   660.441711    50193.57\n",
      "home_appliances_2                       520.663529   123917.92\n",
      "agro_industry_and_commerce              369.689009    78374.07\n",
      "musical_instruments                     309.025544   210137.37\n",
      "small_appliances                        304.372356   206668.83\n",
      "fixed_telephony                         243.260644    64220.81\n",
      "construction_tools_safety               229.193918    44463.62\n",
      "furniture_bedroom                       226.247798    24661.01\n",
      "watches_gifts                           217.917144  1305541.61\n"
     ]
    }
   ],
   "source": [
    "# Name the columns\n",
    "product_price_group_s_subset.columns = [\"Mean (R$)\",\"Sum (R$)\"]\n",
    "\n",
    "# Name the index\n",
    "product_price_group_s_subset.index.name = \"Category\"\n",
    "print(product_price_group_s_subset)"
   ]
  },
  {
   "cell_type": "code",
   "execution_count": 665,
   "id": "3ba01d0f-e925-4e12-bcba-61b628a9af40",
   "metadata": {},
   "outputs": [
    {
     "data": {
      "image/png": "[encoded data removed]",
      "text/plain": [
       "<Figure size 864x432 with 1 Axes>"
      ]
     },
     "metadata": {
      "needs_background": "light"
     },
     "output_type": "display_data"
    }
   ],
   "source": [
    "# Plotting the chart 3 which contains the mean price over the type of products\n",
    "# This one i would rather to plot in a horizontal bar and in a big size plot to get easier to see it \n",
    "\n",
    "plt.barh(product_price_group_s_subset.index,product_price_group_s_subset[\"Mean (R$)\"])\n",
    "plt.gca().invert_yaxis()\n",
    "plt.ylabel(\"Categories\")\n",
    "plt.xlabel(\"Price (Mean)\")\n",
    "plt.title(\"Mean price per categories\")\n",
    "plt.gcf().set_size_inches(12, 6)\n",
    "plt.show()"
   ]
  },
  {
   "cell_type": "code",
   "execution_count": 666,
   "id": "4c5a6471-330d-43ec-875e-359e1b6980ab",
   "metadata": {},
   "outputs": [
    {
     "name": "stderr",
     "output_type": "stream",
     "text": [
      "C:\\Users\\thale_fb5x52n\\anaconda3\\lib\\site-packages\\pandas\\util\\_decorators.py:311: SettingWithCopyWarning: \n",
      "A value is trying to be set on a copy of a slice from a DataFrame\n",
      "\n",
      "See the caveats in the documentation: https://pandas.pydata.org/pandas-docs/stable/user_guide/indexing.html#returning-a-view-versus-a-copy\n",
      "  return func(*args, **kwargs)\n"
     ]
    }
   ],
   "source": [
    "# In the database, the column \"order_item_id\" contains the unique orders and the orders which is ore than mone item it repeats but using numbers bigger than 1, like 2,3 until 21\n",
    "# So when there is a number different than 1 in this column, it means that there is a repetition of the order. So i desconsidered all\n",
    "# the rows which is different than 1. Therefore, i can get the uniques orders \n",
    "product_items = products_prices_merged[products_prices_merged[\"order_item_id\"]==1]\n",
    "\n",
    "# Verifying if there is no duplicates in product_id in table customers_clean\n",
    "product_items.drop_duplicates(subset = \"order_id\", inplace=True)"
   ]
  },
  {
   "cell_type": "code",
   "execution_count": 667,
   "id": "7fd76575-bc3c-4b0f-8cdd-77ce8e4acc0b",
   "metadata": {},
   "outputs": [],
   "source": [
    "#Counting the number of orders for each classification\n",
    "num_orders = product_items.groupby([\"product_category_name_english\"]).count()"
   ]
  },
  {
   "cell_type": "code",
   "execution_count": 668,
   "id": "e0020028-4b16-4f32-9275-96f4a39e58dd",
   "metadata": {},
   "outputs": [],
   "source": [
    "# Droping some columns and sorting to make the dataframe cleaner\n",
    "num_orders.drop(num_orders.columns[[1,2,3,4]],axis=1,inplace=True)\n",
    "num_orders.sort_values(by=\"order_id\",ascending = False,inplace=True)\n",
    "num_orders_subset.columns = [\"Number of orders\"]"
   ]
  },
  {
   "cell_type": "code",
   "execution_count": 669,
   "id": "96466971-1a94-4a7b-96e7-b01fbfafb8b0",
   "metadata": {},
   "outputs": [
    {
     "name": "stdout",
     "output_type": "stream",
     "text": [
      "                               order_id\n",
      "product_category_name_english          \n",
      "bed_bath_table                     9311\n",
      "health_beauty                      8796\n",
      "sports_leisure                     7681\n",
      "computers_accessories              6660\n",
      "furniture_decor                    6355\n",
      "housewares                         5829\n",
      "watches_gifts                      5601\n",
      "telephony                          4182\n",
      "auto                               3880\n",
      "toys                               3861\n",
      "cool_stuff                         3603\n"
     ]
    }
   ],
   "source": [
    "# Subsetting the dataframe in order to get just the mos relevant categories and make the chart clean \n",
    "num_orders_subset = num_orders[num_orders[\"order_id\"]>3500]\n",
    "\n",
    "print(num_orders_subset)"
   ]
  },
  {
   "cell_type": "code",
   "execution_count": 670,
   "id": "2f64b416-45cf-4f4e-8fa8-e19948cc86f5",
   "metadata": {},
   "outputs": [
    {
     "data": {
      "image/png": "[encoded data removed]",
      "text/plain": [
       "<Figure size 720x360 with 1 Axes>"
      ]
     },
     "metadata": {
      "needs_background": "light"
     },
     "output_type": "display_data"
    }
   ],
   "source": [
    "# Plotting the chart 4 which contains the number of orgers over the type of products\n",
    "# Same process as the others bu in this one i'd like to show how to plot the most simple chart \n",
    "plt.bar(num_orders_subset.index,num_orders_subset[\"order_id\"])\n",
    "plt.xticks(rotation=45)\n",
    "plt.xlabel(\"Categories\")\n",
    "plt.ylabel(\"Number of Orders\")\n",
    "plt.title(\"Number of orders per categories\")\n",
    "plt.gcf().set_size_inches(10, 5)\n",
    "plt.show()"
   ]
  }
 ],
 "metadata": {
  "kernelspec": {
   "display_name": "Python 3 (ipykernel)",
   "language": "python",
   "name": "python3"
  },
  "language_info": {
   "codemirror_mode": {
    "name": "ipython",
    "version": 3
   },
   "file_extension": ".py",
   "mimetype": "text/x-python",
   "name": "python",
   "nbconvert_exporter": "python",
   "pygments_lexer": "ipython3",
   "version": "3.9.7"
  }
 },
 "nbformat": 4,
 "nbformat_minor": 5
}
