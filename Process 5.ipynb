{
 "cells": [
  {
   "cell_type": "code",
   "execution_count": 266,
   "id": "a5b02898-beac-4417-99da-6c26170209f7",
   "metadata": {},
   "outputs": [],
   "source": [
    "import pandas as pd\n",
    "import matplotlib.pyplot as plt\n",
    "import numpy as np\n",
    "import requests\n",
    "from bs4 import BeautifulSoup as bs"
   ]
  },
  {
   "cell_type": "code",
   "execution_count": 267,
   "id": "d104f3cd-3972-4304-a38f-50e8382d7ce2",
   "metadata": {},
   "outputs": [],
   "source": [
    "# Access the information fo the website =(all the objects)\n",
    "growth = requests.get('https://www.em.com.br/app/noticia/economia/2019/02/19/internas_economia,1031885/faturamento-do-e-commerce-soma-r-53-2-bilhoes-em-2018-alta-de-12.shtml')\n",
    "\n",
    "# Using the beautifulsoup method to get just the information readable \n",
    "soup = bs(growth.content, 'html.parser')"
   ]
  },
  {
   "cell_type": "code",
   "execution_count": 268,
   "id": "694ef7bc-4bc0-47a8-9642-ce8d8a934567",
   "metadata": {},
   "outputs": [],
   "source": [
    "# Using the method to get all the info classified as <p>\n",
    "text_sector = soup.find_all('p')[9].get_text()"
   ]
  },
  {
   "cell_type": "code",
   "execution_count": 269,
   "id": "f20780db-1872-4bd8-9cfb-9b9b0c3d041c",
   "metadata": {},
   "outputs": [],
   "source": [
    "# Extracting the info(basically numbers) from the text html\n",
    "number1 = tt[79:83].replace(\",\",\".\")\n",
    "number2 = tt[417:422].replace(\",\",\".\")"
   ]
  },
  {
   "cell_type": "code",
   "execution_count": 270,
   "id": "11484a55-8738-4a75-9b92-53edf8ed6573",
   "metadata": {},
   "outputs": [],
   "source": [
    "# Create empty lists to populate it and then create a DF\n",
    "list_year=[]\n",
    "list_fa=[]\n",
    "list_growth=[]\n",
    "\n",
    "# Populate it \n",
    "list_year.append(tt[152:156])\n",
    "list_year.append(tt[52:56])\n",
    "list_year.append(tt[351:355])\n",
    "list_fa.append(float(number1)/((float(tt[130:132])+100)/100))\n",
    "list_fa.append(number1)\n",
    "list_fa.append(number2)\n",
    "list_growth.append(\"-\")\n",
    "list_growth.append(tt[130:132])\n",
    "list_growth.append(tt[388:390])"
   ]
  },
  {
   "cell_type": "code",
   "execution_count": 271,
   "id": "519c5aa8-06ae-4cd4-9230-ff06827de5f3",
   "metadata": {},
   "outputs": [
    {
     "name": "stdout",
     "output_type": "stream",
     "text": [
      "     Revenue(Billions R$) Growth(%)\n",
      "Year                               \n",
      "2017                 47.5         -\n",
      "2018                 53.2        12\n",
      "2019                61.2         15\n"
     ]
    }
   ],
   "source": [
    "# Create the DF\n",
    "sector_df = pd.DataFrame(list(zip(list_year,list_fa,list_growth)),columns =['Year', 'Revenue(Billions R$)', 'Growth(%)'])\n",
    "sector_df.set_index('Year',inplace=True)\n",
    "print(sector_df)"
   ]
  },
  {
   "cell_type": "code",
   "execution_count": 272,
   "id": "766ba804-5d79-4900-8a0b-f639bb847bc5",
   "metadata": {},
   "outputs": [
    {
     "data": {
      "image/png": "[encoded data removed]",
      "text/plain": [
       "<Figure size 432x288 with 2 Axes>"
      ]
     },
     "metadata": {
      "needs_background": "light"
     },
     "output_type": "display_data"
    }
   ],
   "source": [
    "# Applying the method to make possible to plot two info at the same chart \n",
    "fig, ax1 = plt.subplots()\n",
    "\n",
    "# PLotting the chart 6 which is the Revenue of the sector throught the years \n",
    "ax1.plot(sector_df.index,sector_df[\"Revenue(Billions R$)\"],color=\"red\")\n",
    "\n",
    "# Same process as the chart 5\n",
    "ax1.set_ylabel(\"Revenue(Billions R$)\")\n",
    "ax2=ax1.twinx()\n",
    "ax2.bar(sector_df.index,sector_df[\"Growth(%)\"],width=0.3,alpha=0.7)\n",
    "ax2.grid(False)\n",
    "ax2.set_ylabel(\"Growth pace(%)\")\n",
    "ax2.set_xlabel(\"Years\")\n",
    "plt.title(\"E-commerce growth\")\n",
    "plt.show()"
   ]
  }
 ],
 "metadata": {
  "kernelspec": {
   "display_name": "Python 3 (ipykernel)",
   "language": "python",
   "name": "python3"
  },
  "language_info": {
   "codemirror_mode": {
    "name": "ipython",
    "version": 3
   },
   "file_extension": ".py",
   "mimetype": "text/x-python",
   "name": "python",
   "nbconvert_exporter": "python",
   "pygments_lexer": "ipython3",
   "version": "3.9.7"
  }
 },
 "nbformat": 4,
 "nbformat_minor": 5
}
